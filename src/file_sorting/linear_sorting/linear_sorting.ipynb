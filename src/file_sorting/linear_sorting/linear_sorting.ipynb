{
 "cells": [
  {
   "cell_type": "code",
   "execution_count": 1,
   "metadata": {},
   "outputs": [],
   "source": [
    "import random\n",
    "import string\n",
    "\n",
    "INPUT_FILE = 'input.txt'\n",
    "OUTPUT_FILE = 'output.txt'"
   ]
  },
  {
   "cell_type": "code",
   "execution_count": 2,
   "metadata": {},
   "outputs": [],
   "source": [
    "def generate_file(file_path):\n",
    "    with open(file_path, 'w') as file:\n",
    "        for _ in range(1000):\n",
    "            line_length = random.randint(1, 256)\n",
    "            line = ''.join(random.choice(string.ascii_lowercase) for _ in range(line_length))\n",
    "            file.write(line + '\\n')"
   ]
  },
  {
   "cell_type": "code",
   "execution_count": 3,
   "metadata": {},
   "outputs": [],
   "source": [
    "def index_sort(input_file, output_file):\n",
    "    line_lengths = []\n",
    "    lines = []\n",
    "\n",
    "    with open(input_file, 'r') as file:\n",
    "        for line in file:\n",
    "            line_lengths.append(len(line))\n",
    "            lines.append(line)\n",
    "\n",
    "    line_length_counts = [0] * (max(line_lengths) + 1)\n",
    "    for length in line_lengths:\n",
    "        line_length_counts[length] += 1\n",
    "\n",
    "    for i in range(1, len(line_length_counts)):\n",
    "        line_length_counts[i] += line_length_counts[i - 1]\n",
    "\n",
    "    output = [''] * len(lines)\n",
    "    for i in range(len(lines) - 1, -1, -1):\n",
    "        length = line_lengths[i]\n",
    "        output[line_length_counts[length] - 1] = lines[i]\n",
    "        line_length_counts[length] -= 1\n",
    "\n",
    "    with open(output_file, 'w') as file:\n",
    "        for line in output:\n",
    "            file.write(line)\n"
   ]
  },
  {
   "cell_type": "code",
   "execution_count": 4,
   "metadata": {},
   "outputs": [],
   "source": [
    "generate_file(INPUT_FILE)\n",
    "\n",
    "index_sort(INPUT_FILE, OUTPUT_FILE)"
   ]
  }
 ],
 "metadata": {
  "kernelspec": {
   "display_name": "base",
   "language": "python",
   "name": "python3"
  },
  "language_info": {
   "codemirror_mode": {
    "name": "ipython",
    "version": 3
   },
   "file_extension": ".py",
   "mimetype": "text/x-python",
   "name": "python",
   "nbconvert_exporter": "python",
   "pygments_lexer": "ipython3",
   "version": "3.10.9"
  },
  "orig_nbformat": 4
 },
 "nbformat": 4,
 "nbformat_minor": 2
}
