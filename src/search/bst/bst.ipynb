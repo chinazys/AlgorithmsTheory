{
 "cells": [
  {
   "cell_type": "code",
   "execution_count": 5,
   "metadata": {},
   "outputs": [],
   "source": [
    "import random\n",
    "from bst import BST"
   ]
  },
  {
   "cell_type": "code",
   "execution_count": 7,
   "metadata": {},
   "outputs": [
    {
     "name": "stdout",
     "output_type": "stream",
     "text": [
      "Random sequence: [10, 2, 4, 9, 1, 8, 7, 6, 3, 5]\n",
      "Binary Search Tree: { (1; 1) <- (2; 9) -> (3; 1) <- (4; 7) -> (5; 1) <- (6; 2) <- (7; 3) <- (8; 4) <- (9; 5) <- (10; 10) }\n",
      "\n",
      "Modified BST after deleting element with key 6:\n",
      "{ (1; 1) <- (2; 8) -> (3; 1) <- (4; 6) -> (5; 1) <- (7; 2) <- (8; 3) <- (9; 4) <- (10; 9) }\n",
      "\n",
      "Modified BST after deleting element with key 4:\n",
      "{ (1; 1) <- (2; 7) -> (3; 5) -> (5; 1) <- (7; 2) <- (8; 3) <- (9; 4) <- (10; 8) }\n",
      "\n",
      "Modified BST after deleting element with index 1:\n",
      "{ (2; 6) -> (3; 5) -> (5; 1) <- (7; 2) <- (8; 3) <- (9; 4) <- (10; 7) }\n",
      "\n",
      "Modified BST after deleting element with index 4:\n",
      "{ (2; 5) -> (3; 4) -> (5; 1) <- (8; 2) <- (9; 3) <- (10; 6) }\n"
     ]
    }
   ],
   "source": [
    "bst = BST()\n",
    "\n",
    "random_sequence = random.sample(range(1, 11), 10)\n",
    "\n",
    "for num in random_sequence:\n",
    "    bst.insert_as_leaf(num)\n",
    "\n",
    "print(\"Random sequence:\", random_sequence)\n",
    "\n",
    "print(\"Binary Search Tree:\", bst)\n",
    "\n",
    "while True:\n",
    "    k = int(input(\"Enter a key to delete (or 100 to exit): \"))\n",
    "    if k == 100:\n",
    "        break\n",
    "    bst.delete_by_key(k)\n",
    "    print()\n",
    "    print(\"Modified BST after deleting element with key\", str(k) + str(':'))\n",
    "    print(bst)\n",
    "\n",
    "while True:\n",
    "    m = int(input(\"Enter an index to delete (or 100 to exit): \"))\n",
    "    if m == 100:\n",
    "        break\n",
    "    bst.delete_by_index(m)\n",
    "    print()\n",
    "    print(\"Modified BST after deleting element with index\", str(m) + str(':'))\n",
    "    print(bst)"
   ]
  },
  {
   "cell_type": "code",
   "execution_count": 6,
   "metadata": {},
   "outputs": [
    {
     "name": "stdout",
     "output_type": "stream",
     "text": [
      "Ascending sequence: [1, 2, 3, 4, 5, 6, 7, 8, 9, 10]\n",
      "BST Leaf Insertion: { (1; 10) -> (2; 9) -> (3; 8) -> (4; 7) -> (5; 6) -> (6; 5) -> (7; 4) -> (8; 3) -> (9; 2) -> (10; 1) }\n",
      "BST Root Insertion: { (1; 1) <- (2; 2) <- (3; 3) <- (4; 4) <- (5; 5) <- (6; 6) <- (7; 7) <- (8; 8) <- (9; 9) <- (10; 10) }\n"
     ]
    }
   ],
   "source": [
    "bst_leaf_insertion = BST()\n",
    "bst_root_insertion = BST()\n",
    "\n",
    "ascending_sequence = [i + 1 for i in range(10)]\n",
    "\n",
    "\n",
    "print(\"Ascending sequence:\", ascending_sequence)\n",
    "\n",
    "for key in ascending_sequence:\n",
    "    bst_leaf_insertion.insert_as_leaf(key)\n",
    "    bst_root_insertion.insert_as_root(key)\n",
    "\n",
    "print(\"BST Leaf Insertion:\", bst_leaf_insertion)\n",
    "print(\"BST Root Insertion:\", bst_root_insertion)"
   ]
  }
 ],
 "metadata": {
  "kernelspec": {
   "display_name": "base",
   "language": "python",
   "name": "python3"
  },
  "language_info": {
   "codemirror_mode": {
    "name": "ipython",
    "version": 3
   },
   "file_extension": ".py",
   "mimetype": "text/x-python",
   "name": "python",
   "nbconvert_exporter": "python",
   "pygments_lexer": "ipython3",
   "version": "3.10.9"
  },
  "orig_nbformat": 4
 },
 "nbformat": 4,
 "nbformat_minor": 2
}
